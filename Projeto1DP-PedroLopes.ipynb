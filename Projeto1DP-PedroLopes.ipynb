{
 "cells": [
  {
   "cell_type": "markdown",
   "metadata": {},
   "source": [
    "___\n",
    "# Ciência dos Dados - PROJETO 1"
   ]
  },
  {
   "cell_type": "markdown",
   "metadata": {},
   "source": [
    "## Pedro Henrique Greco Lopes\n",
    "\n",
    "___"
   ]
  },
  {
   "cell_type": "markdown",
   "metadata": {},
   "source": [
    "## Perfil das crianças que nao tem mae viva"
   ]
  },
  {
   "cell_type": "markdown",
   "metadata": {},
   "source": [
    "___\n",
    "## Introdução\n",
    "\n",
    "O estudo pretende analisar o perfil de crianças, de 5 a 18 anos de idade, que não tem mãe viva, para entender qual é o peso da figura da mãe em âmbitos como a escolaridade, trabalho infantil, papel em casa, se já tiveram filhos."
   ]
  },
  {
   "cell_type": "markdown",
   "metadata": {},
   "source": [
    "___\n",
    "## Filtros da base de dados"
   ]
  },
  {
   "cell_type": "code",
   "execution_count": 43,
   "metadata": {
    "collapsed": true
   },
   "outputs": [],
   "source": [
    "%matplotlib inline\n",
    "import pandas as pd\n",
    "import matplotlib.pyplot as plt\n",
    "import numpy as np\n",
    "import os"
   ]
  },
  {
   "cell_type": "code",
   "execution_count": 44,
   "metadata": {},
   "outputs": [
    {
     "name": "stdout",
     "output_type": "stream",
     "text": [
      "Esperamos trabalhar no diretório\n",
      "C:\\Users\\pedro\\Desktop\\3 Semestre\\DP-CD\n"
     ]
    }
   ],
   "source": [
    "print('Esperamos trabalhar no diretório')\n",
    "print(os.getcwd())"
   ]
  },
  {
   "cell_type": "code",
   "execution_count": 45,
   "metadata": {},
   "outputs": [],
   "source": [
    "#Se usar o arquivo descompactado\n",
    "nad15 = pd.read_csv('PES2015.csv',sep=',')\n",
    "nad11 = pd.read_csv('PES2011.csv',sep=',')"
   ]
  },
  {
   "cell_type": "code",
   "execution_count": 46,
   "metadata": {},
   "outputs": [],
   "source": [
    "nad15 = nad15.loc[nad15.V8005<18,['V0405','V4838','V4803','V4745','V4743','V0602','V0701','V9001','V1101']]\n",
    "\n",
    "#V8005 - Idade\n",
    "#V0405 - Tem mae viva\n",
    "#V4803 - Anos de estudo\n",
    "#V4745 - Nível de intrução mais alto alcançado\n",
    "#V0602 - Frequenta escola ou creche\n",
    "#V4743 - Faixa de rend mensal per capita\n",
    "#V0701 - Teve algum trabalho no último ano (de 5 a 9 anos de idade)\n",
    "#V9001 - Trabalho (10 ou mais de idade)\n",
    "#V1101 - Teve algum filho nascido vivo até a data de referência"
   ]
  },
  {
   "cell_type": "code",
   "execution_count": 47,
   "metadata": {
    "collapsed": true
   },
   "outputs": [],
   "source": [
    "nad11 = nad11.loc[nad11.V8005<18,['V0405','V4803','V4745','V0602','V4743','V0701','V9001','V1101']]\n",
    "\n",
    "#V8005 - Idade\n",
    "#V0405 - Tem mae viva\n",
    "#V4803 - Anos de estudo\n",
    "#V4745 - Nível de intrução mais alto alcançado\n",
    "#V0602 - Frequenta escola ou creche\n",
    "#V4743 - Faixa de rend mensal per capita\n",
    "#V0701 - Teve algum trabalho no último ano (de 5 a 9 anos de idade)\n",
    "#V9001 - Trabalho (10 ou mais de idade)\n",
    "#V1101 - Teve algum filho nascido vivo até a data de referência"
   ]
  },
  {
   "cell_type": "code",
   "execution_count": 48,
   "metadata": {},
   "outputs": [
    {
     "data": {
      "text/html": [
       "<div>\n",
       "<table border=\"1\" class=\"dataframe\">\n",
       "  <thead>\n",
       "    <tr style=\"text-align: right;\">\n",
       "      <th></th>\n",
       "      <th>Tem mãe viva</th>\n",
       "      <th>V4838</th>\n",
       "      <th>Anos de estudo</th>\n",
       "      <th>Nivel mais alto de instrução</th>\n",
       "      <th>Faixa de renda mensal p.c.</th>\n",
       "      <th>Frequenta escola ou creche</th>\n",
       "      <th>Trabalhou no último ano (crianças de 5 a 9)</th>\n",
       "      <th>Trabalhou no último ano (crianças acima de 10)</th>\n",
       "      <th>Teve algum filho nascido vivo</th>\n",
       "    </tr>\n",
       "  </thead>\n",
       "  <tbody>\n",
       "    <tr>\n",
       "      <th>4</th>\n",
       "      <td>Sim</td>\n",
       "      <td>2</td>\n",
       "      <td>4</td>\n",
       "      <td>2</td>\n",
       "      <td>4.0</td>\n",
       "      <td>2</td>\n",
       "      <td>NaN</td>\n",
       "      <td>Nao</td>\n",
       "      <td>3.0</td>\n",
       "    </tr>\n",
       "    <tr>\n",
       "      <th>5</th>\n",
       "      <td>Sim</td>\n",
       "      <td>2</td>\n",
       "      <td>2</td>\n",
       "      <td>2</td>\n",
       "      <td>4.0</td>\n",
       "      <td>2</td>\n",
       "      <td>3.0</td>\n",
       "      <td>NaN</td>\n",
       "      <td>NaN</td>\n",
       "    </tr>\n",
       "    <tr>\n",
       "      <th>6</th>\n",
       "      <td>Sim</td>\n",
       "      <td>1</td>\n",
       "      <td>1</td>\n",
       "      <td>1</td>\n",
       "      <td>4.0</td>\n",
       "      <td>2</td>\n",
       "      <td>NaN</td>\n",
       "      <td>NaN</td>\n",
       "      <td>NaN</td>\n",
       "    </tr>\n",
       "    <tr>\n",
       "      <th>15</th>\n",
       "      <td>Sim</td>\n",
       "      <td>1</td>\n",
       "      <td>1</td>\n",
       "      <td>1</td>\n",
       "      <td>4.0</td>\n",
       "      <td>4</td>\n",
       "      <td>NaN</td>\n",
       "      <td>NaN</td>\n",
       "      <td>NaN</td>\n",
       "    </tr>\n",
       "    <tr>\n",
       "      <th>18</th>\n",
       "      <td>Sim</td>\n",
       "      <td>4</td>\n",
       "      <td>9</td>\n",
       "      <td>3</td>\n",
       "      <td>4.0</td>\n",
       "      <td>4</td>\n",
       "      <td>NaN</td>\n",
       "      <td>Sim</td>\n",
       "      <td>NaN</td>\n",
       "    </tr>\n",
       "  </tbody>\n",
       "</table>\n",
       "</div>"
      ],
      "text/plain": [
       "   Tem mãe viva  V4838  Anos de estudo  Nivel mais alto de instrução  \\\n",
       "4           Sim      2               4                             2   \n",
       "5           Sim      2               2                             2   \n",
       "6           Sim      1               1                             1   \n",
       "15          Sim      1               1                             1   \n",
       "18          Sim      4               9                             3   \n",
       "\n",
       "    Faixa de renda mensal p.c.  Frequenta escola ou creche  \\\n",
       "4                          4.0                           2   \n",
       "5                          4.0                           2   \n",
       "6                          4.0                           2   \n",
       "15                         4.0                           4   \n",
       "18                         4.0                           4   \n",
       "\n",
       "    Trabalhou no último ano (crianças de 5 a 9)  \\\n",
       "4                                           NaN   \n",
       "5                                           3.0   \n",
       "6                                           NaN   \n",
       "15                                          NaN   \n",
       "18                                          NaN   \n",
       "\n",
       "   Trabalhou no último ano (crianças acima de 10)  \\\n",
       "4                                             Nao   \n",
       "5                                             NaN   \n",
       "6                                             NaN   \n",
       "15                                            NaN   \n",
       "18                                            Sim   \n",
       "\n",
       "    Teve algum filho nascido vivo  \n",
       "4                             3.0  \n",
       "5                             NaN  \n",
       "6                             NaN  \n",
       "15                            NaN  \n",
       "18                            NaN  "
      ]
     },
     "execution_count": 48,
     "metadata": {},
     "output_type": "execute_result"
    }
   ],
   "source": [
    "nad15.V0405 = nad15.V0405.astype('category')\n",
    "nad15.V0405.cat.categories = ('Sim','Nao','Não sabe')\n",
    "\n",
    "nad15.V9001 = nad15.V9001.astype('category')\n",
    "nad15.V9001.cat.categories = ('Sim','Nao')\n",
    "\n",
    "\n",
    "\n",
    "nad15=nad15.rename(columns={'V8005':'Idade'})\n",
    "nad15=nad15.rename(columns={'V0405':'Tem mãe viva'})\n",
    "nad15=nad15.rename(columns={'V4803':'Anos de estudo'})\n",
    "nad15=nad15.rename(columns={'V4745':'Nivel mais alto de instrução'})\n",
    "nad15=nad15.rename(columns={'V0602':'Frequenta escola ou creche'})\n",
    "nad15=nad15.rename(columns={'V4743':'Faixa de renda mensal p.c.'})\n",
    "nad15=nad15.rename(columns={'V0701':'Trabalhou no último ano (crianças de 5 a 9)'})\n",
    "nad15=nad15.rename(columns={'V9001':'Trabalhou no último ano (crianças acima de 10)'})\n",
    "nad15=nad15.rename(columns={'V1101':'Teve algum filho nascido vivo'})\n",
    "\n",
    "\n",
    "\n",
    "nad15.head()"
   ]
  },
  {
   "cell_type": "code",
   "execution_count": null,
   "metadata": {
    "collapsed": true
   },
   "outputs": [],
   "source": []
  },
  {
   "cell_type": "markdown",
   "metadata": {},
   "source": [
    "___\n",
    "## Análise e Resultados"
   ]
  },
  {
   "cell_type": "code",
   "execution_count": null,
   "metadata": {
    "collapsed": true
   },
   "outputs": [],
   "source": []
  },
  {
   "cell_type": "code",
   "execution_count": null,
   "metadata": {
    "collapsed": true
   },
   "outputs": [],
   "source": []
  },
  {
   "cell_type": "code",
   "execution_count": null,
   "metadata": {
    "collapsed": true
   },
   "outputs": [],
   "source": []
  },
  {
   "cell_type": "markdown",
   "metadata": {},
   "source": [
    "___\n",
    "## Conclusão "
   ]
  },
  {
   "cell_type": "markdown",
   "metadata": {
    "collapsed": true
   },
   "source": [
    "Descreva aqui suas conclusões!"
   ]
  },
  {
   "cell_type": "code",
   "execution_count": null,
   "metadata": {
    "collapsed": true
   },
   "outputs": [],
   "source": []
  }
 ],
 "metadata": {
  "anaconda-cloud": {},
  "kernelspec": {
   "display_name": "Python 3",
   "language": "python",
   "name": "python3"
  },
  "language_info": {
   "codemirror_mode": {
    "name": "ipython",
    "version": 3
   },
   "file_extension": ".py",
   "mimetype": "text/x-python",
   "name": "python",
   "nbconvert_exporter": "python",
   "pygments_lexer": "ipython3",
   "version": "3.6.0"
  }
 },
 "nbformat": 4,
 "nbformat_minor": 1
}
