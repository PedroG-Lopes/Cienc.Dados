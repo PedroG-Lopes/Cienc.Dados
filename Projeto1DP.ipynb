{
 "cells": [
  {
   "cell_type": "markdown",
   "metadata": {},
   "source": [
    "___\n",
    "# Ciência dos Dados - PROJETO 1"
   ]
  },
  {
   "cell_type": "markdown",
   "metadata": {},
   "source": [
    "## Pedro Henrique Greco Lopes\n",
    "\n",
    "___"
   ]
  },
  {
   "cell_type": "markdown",
   "metadata": {},
   "source": [
    "## Perfil das crianças que nao tem mae viva"
   ]
  },
  {
   "cell_type": "markdown",
   "metadata": {},
   "source": [
    "___\n",
    "## Introdução\n",
    "\n",
    "O estudo pretende analisar o perfil de crianças, de 5 a 18 anos de idade, que não tem mãe viva, para entender qual é o peso da figura da mãe em âmbitos como a escolaridade, trabalho infantil, papel em casa, se já tiveram filhos."
   ]
  },
  {
   "cell_type": "markdown",
   "metadata": {},
   "source": [
    "___\n",
    "## Filtros da base de dados"
   ]
  },
  {
   "cell_type": "code",
   "execution_count": 7,
   "metadata": {
    "collapsed": true
   },
   "outputs": [],
   "source": [
    "%matplotlib inline\n",
    "import pandas as pd\n",
    "import matplotlib.pyplot as plt\n",
    "import numpy as np\n",
    "import os"
   ]
  },
  {
   "cell_type": "code",
   "execution_count": 8,
   "metadata": {},
   "outputs": [
    {
     "name": "stdout",
     "output_type": "stream",
     "text": [
      "Esperamos trabalhar no diretório\n",
      "C:\\Users\\pedro\\Desktop\\3 Semestre\\DP-CD\n"
     ]
    }
   ],
   "source": [
    "print('Esperamos trabalhar no diretório')\n",
    "print(os.getcwd())"
   ]
  },
  {
   "cell_type": "code",
   "execution_count": 9,
   "metadata": {},
   "outputs": [],
   "source": [
    "#Se usar o arquivo descompactado\n",
    "nad15 = pd.read_csv('PES2015.csv',sep=',')\n",
    "nad11 = pd.read_csv('PES2011.csv',sep=',')"
   ]
  },
  {
   "cell_type": "code",
   "execution_count": 10,
   "metadata": {},
   "outputs": [],
   "source": [
    "nad15 = nad15.loc[nad15.V8005<18,['V0405','V4838','V4803','V4745','V4743','V0602','V0701','V9001','V1101']]\n",
    "\n",
    "#V8005 - Idade\n",
    "#V0405 - Tem mae viva\n",
    "#V4803 - Anos de estudo\n",
    "#V4745 - Nível de intrução mais alto alcançado\n",
    "#V0602 - Frequenta escola ou creche\n",
    "#V4743 - Faixa de rend mensal per capita\n",
    "#V0701 - Teve algum trabalho no último ano (de 5 a 9 anos de idade)\n",
    "#V9001 - Trabalho (10 ou mais de idade)\n",
    "#V1101 - Teve algum filho nascido vivo até a data de referência"
   ]
  },
  {
   "cell_type": "code",
   "execution_count": 11,
   "metadata": {
    "collapsed": true
   },
   "outputs": [],
   "source": [
    "nad11 = nad11.loc[nad11.V8005<18,['V0405','V4803','V4745','V0602','V4743','V0701','V9001','V1101']]\n",
    "\n",
    "#V8005 - Idade\n",
    "#V0405 - Tem mae viva\n",
    "#V4803 - Anos de estudo\n",
    "#V4745 - Nível de intrução mais alto alcançado\n",
    "#V0602 - Frequenta escola ou creche\n",
    "#V4743 - Faixa de rend mensal per capita\n",
    "#V0701 - Teve algum trabalho no último ano (de 5 a 9 anos de idade)\n",
    "#V9001 - Trabalho (10 ou mais de idade)\n",
    "#V1101 - Teve algum filho nascido vivo até a data de referência"
   ]
  },
  {
   "cell_type": "code",
   "execution_count": null,
   "metadata": {},
   "outputs": [],
   "source": []
  },
  {
   "cell_type": "markdown",
   "metadata": {},
   "source": [
    "___\n",
    "## Análise e Resultados"
   ]
  },
  {
   "cell_type": "code",
   "execution_count": null,
   "metadata": {
    "collapsed": true
   },
   "outputs": [],
   "source": []
  },
  {
   "cell_type": "code",
   "execution_count": null,
   "metadata": {
    "collapsed": true
   },
   "outputs": [],
   "source": []
  },
  {
   "cell_type": "markdown",
   "metadata": {},
   "source": [
    "___\n",
    "## Conclusão "
   ]
  },
  {
   "cell_type": "markdown",
   "metadata": {
    "collapsed": true
   },
   "source": [
    "Descreva aqui suas conclusões!"
   ]
  },
  {
   "cell_type": "code",
   "execution_count": null,
   "metadata": {
    "collapsed": true
   },
   "outputs": [],
   "source": []
  }
 ],
 "metadata": {
  "anaconda-cloud": {},
  "kernelspec": {
   "display_name": "Python 3",
   "language": "python",
   "name": "python3"
  },
  "language_info": {
   "codemirror_mode": {
    "name": "ipython",
    "version": 3
   },
   "file_extension": ".py",
   "mimetype": "text/x-python",
   "name": "python",
   "nbconvert_exporter": "python",
   "pygments_lexer": "ipython3",
   "version": "3.6.0"
  }
 },
 "nbformat": 4,
 "nbformat_minor": 1
}
